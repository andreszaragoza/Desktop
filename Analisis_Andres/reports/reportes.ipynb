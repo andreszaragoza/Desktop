{
 "cells": [
  {
   "cell_type": "markdown",
   "metadata": {},
   "source": [
    "## Descripción del Proyecto\n",
    "\n",
    "Este proyecto tiene como objetivo realizar un análisis detallado de los datos relacionados con videojuegos utilizando herramientas como **Python** y **Jupyter Notebooks**. Los datos provienen de un archivo CSV llamado `juegos_rawg_limpio.csv`, mientras que el análisis principal se desarrolló y ejecutó en el archivo `Analisis_Datos.ipynb`."
   ]
  },
  {
   "cell_type": "markdown",
   "metadata": {},
   "source": [
    "# Documentación de cada columna y su significado"
   ]
  },
  {
   "cell_type": "markdown",
   "metadata": {},
   "source": [
    "| Columna              | Descripción                                                                                     | Observaciones                                                                                               |\n",
    "|----------------------|-------------------------------------------------------------------------------------------------|------------------------------------------------------------------------------------------------------------|\n",
    "| Unnamed: 0          | Índice sin nombre, posiblemente redundante.                                                     | Puede eliminarse si no aporta información única.                                                           |\n",
    "| slug                | Identificador único en formato texto para cada juego.                                           | Es útil para identificar juegos de forma única, pero no es legible para el usuario.                        |\n",
    "| name                | Nombre completo del juego.                                                                      | Información principal y visible para el usuario.                                                           |\n",
    "| playtime            | Tiempo promedio de juego en horas.                                                              | Puede contener valores bajos o nulos para juegos menos populares.                                          |\n",
    "| stores              | Tiendas donde el juego está disponible, en formato JSON.                                        | Requiere desanidar para obtener datos como nombres de tiendas o URLs específicas.                          |\n",
    "| released            | Fecha de lanzamiento del juego.                                                                 | Puede contener valores nulos para juegos aún no lanzados.                                                  |\n",
    "| rating              | Calificación promedio del juego (en base a opiniones de usuarios).                              | Es una métrica importante de calidad, pero debe analizarse junto a `ratings_count` para contexto.          |\n",
    "| rating_top          | Calificación máxima disponible (e.g., 5 estrellas).                                             | Puede ser redundante, pero útil para verificar si un juego alcanza la calificación máxima.                 |\n",
    "| ratings             | Detalle de calificaciones divididas en varias categorías, en formato JSON.                      | Es necesario desanidar para análisis detallado, como \"exceptional\", \"recommended\", etc.                    |\n",
    "| ratings_count       | Número total de calificaciones recibidas.                                                       | Complementa a `rating` y da contexto sobre la cantidad de usuarios que calificaron.                        |\n",
    "| reviews_text_count  | Número de reseñas que incluyen texto.                                                           | Útil para análisis de sentimientos o revisiones detalladas.                                                |\n",
    "| added               | Total de veces que el juego fue agregado a listas de usuarios.                                  | Es una métrica de popularidad que puede correlacionar con `playtime` o `ratings_count`.                    |\n",
    "| added_by_status     | Detalles sobre cómo los usuarios clasificaron el juego, en formato JSON.                        | Requiere procesamiento adicional para dividir categorías como \"owned\", \"beaten\", etc.                      |\n",
    "| metacritic          | Puntuación promedio en Metacritic.                                                              | Métrica externa de calidad, puede no estar presente para algunos juegos.                                   |\n",
    "| suggestions_count   | Número de juegos sugeridos similares.                                                           | Puede indicar qué tan conectado está un juego con otros en términos de género o popularidad.               |\n",
    "| updated             | Última fecha de actualización de los datos del juego.                                           | Indica la frescura de los datos, especialmente relevante para juegos en desarrollo o con DLC recientes.    |\n",
    "| id                  | Identificador único del juego.                                                                  | Esencial para uniones o referencias cruzadas con otras tablas.                                             |\n",
    "| tags                | Etiquetas asociadas al juego, en formato JSON.                                                  | Requiere desanidar para obtener insights como características o temáticas comunes.                         |\n",
    "| reviews_count       | Número total de reseñas.                                                                        | Complementa `reviews_text_count`, puede incluir reseñas con y sin texto.                                   |\n",
    "| genres              | Géneros a los que pertenece el juego, en formato JSON.                                          | Necesita desanidarse para obtener información granular sobre géneros.                                      |\n"
   ]
  },
  {
   "cell_type": "markdown",
   "metadata": {},
   "source": []
  },
  {
   "cell_type": "markdown",
   "metadata": {},
   "source": [
    "### **Top 10 Juegos con Más Reseñas en el Dataset**\n",
    "\n",
    "1. **Grand Theft Auto V** - 7073 reseñas.\n",
    "2. **The Witcher 3: Wild Hunt** - 6840 reseñas.\n",
    "3. **Portal 2** - 4822 reseñas.\n",
    "4. **The Elder Scrolls V: Skyrim** - 4735 reseñas.\n",
    "5. **Terraria** - 4572 reseñas.\n",
    "6. **Dark Souls III** - 3921 reseñas.\n",
    "7. **Tomb Raider (2013)** - 3968 reseñas.\n",
    "8. **DOOM (2016)** - 3471 reseñas.\n",
    "9. **Minecraft** - 4523 reseñas.\n",
    "10. **Counter-Strike: Global Offensive** - 4130 reseñas.\n",
    "\n",
    "---\n",
    "\n",
    "### **Observación General:**\n",
    "Estos juegos representan títulos altamente populares con una base de usuarios activa, lo que explica el alto volumen de reseñas.\n",
    "\n",
    "---"
   ]
  },
  {
   "cell_type": "markdown",
   "metadata": {},
   "source": [
    "# **Conclusiones:**\n",
    "\n",
    "## **Distribución de Calificaciones**\n",
    "- La mayoría de los juegos tienen calificaciones superiores a 4.0, lo que sugiere una tendencia hacia experiencias bien valoradas.\n",
    "- Sin embargo, pocos juegos obtienen calificaciones inferiores a 3.5, lo que indica que los juegos de baja calidad pueden ser menos frecuentes o menos populares.\n",
    "\n",
    "## **Juegos por Año de Lanzamiento**\n",
    "- Se observa un aumento constante en el número de lanzamientos hasta un cierto año, seguido de una estabilización o caída.\n",
    "- Este patrón puede deberse a cambios en la industria, como avances tecnológicos, saturación del mercado, o el auge de nuevas plataformas.\n",
    "\n",
    "## **Géneros Populares**\n",
    "- Los géneros más comunes incluyen **\"Acción\"**, **\"Aventura\"** y **\"RPG\"**, que dominan las preferencias del público.\n",
    "- Géneros como **\"Puzzle\"** y **\"Simulación\"** tienen menos títulos, pero pueden ser muy valorados en nichos específicos.\n",
    "\n",
    "## **Calificación vs. Tiempo de Juego**\n",
    "- No parece haber una correlación lineal clara: algunos juegos con pocas horas pueden tener altas calificaciones, mientras que juegos largos pueden ser tanto bien como moderadamente valorados.\n",
    "- Esto podría indicar que la duración del juego no es el principal factor para una buena valoración, sino otros elementos como narrativa, jugabilidad, o innovación.\n",
    "\n",
    "---\n",
    "\n",
    "# **Recomendaciones**\n",
    "\n",
    "## **Para los Desarrolladores**\n",
    "- Enfocarse en la **calidad de la experiencia** en lugar de solo la duración del juego.\n",
    "- Considerar mantener géneros populares como **“Acción”** y **“Aventura”**, pero innovar con características nuevas que se diferencien en el mercado.\n",
    "\n",
    "## **Para la Estrategia de Lanzamiento**\n",
    "- Analizar las tendencias por año para identificar **momentos clave** en los que es más probable alcanzar un gran impacto con un nuevo juego.\n",
    "- Evitar fechas de lanzamiento muy saturadas por otros títulos populares.\n",
    "\n",
    "## **Para Estudios Emergentes**\n",
    "- Enfocarse en nichos como juegos de **\"Simulación\"** o **\"Puzzle\"**, donde hay menos competencia pero con potencial de audiencias leales.\n",
    "- Buscar destacar en plataformas clave como **Steam**, dada su alta representación en el dataset.\n",
    "\n",
    "## **Para el Marketing**\n",
    "- Promocionar títulos destacando atributos altamente valorados por los usuarios, como una **narrativa envolvente** o **gráficos innovadores**, en lugar de solo horas de juego.\n"
   ]
  }
 ],
 "metadata": {
  "kernelspec": {
   "display_name": "analisis_de_datos-QJ9P2axb-py3.11",
   "language": "python",
   "name": "python3"
  },
  "language_info": {
   "codemirror_mode": {
    "name": "ipython",
    "version": 3
   },
   "file_extension": ".py",
   "mimetype": "text/x-python",
   "name": "python",
   "nbconvert_exporter": "python",
   "pygments_lexer": "ipython3",
   "version": "3.11.9"
  }
 },
 "nbformat": 4,
 "nbformat_minor": 2
}
