{
 "cells": [
  {
   "cell_type": "code",
   "execution_count": 1,
   "metadata": {},
   "outputs": [],
   "source": [
    "import hashlib\n",
    "import requests\n",
    "import datetime\n",
    "import pandas as pd\n",
    "import time\n",
    "from IPython.display import HTML"
   ]
  },
  {
   "cell_type": "code",
   "execution_count": 2,
   "metadata": {},
   "outputs": [
    {
     "name": "stdout",
     "output_type": "stream",
     "text": [
      "Datos exportados a juegos_rawg.csv\n"
     ]
    }
   ],
   "source": [
    "# Configuración\n",
    "BASE_URL = \"https://api.rawg.io/api/\"\n",
    "API_KEY = \"ce86a0e251eb4c0895192d9b14ae2c26\"  \n",
    "ENDPOINT = \"games\"\n",
    "\n",
    "# Función para obtener datos de la API\n",
    "def obtener_datos_rawg():\n",
    "    filters = {\n",
    "        \"platforms\": [18, 1, 7],  # PlayStation, PC, Nintendo Switch\n",
    "        \"genres\": [4, 51],  # Acción, Indie\n",
    "        \"tags\": [\"singleplayer\", \"multiplayer\"]  # Etiquetas\n",
    "    }\n",
    "\n",
    "    \n",
    "    params = {\n",
    "        \"key\": API_KEY,\n",
    "        \"dates\": \"2000-01-01,2024-12-31\",  \n",
    "        \"page_size\": 100,  \n",
    "    }\n",
    "\n",
    "   \n",
    "    for key, value in filters.items():\n",
    "        params[key] = \",\".join(map(str, value))\n",
    "\n",
    "    \n",
    "    all_results = []  \n",
    "    page = 1\n",
    "\n",
    "    while True:\n",
    "        params[\"page\"] = page  \n",
    "        response = requests.get(f\"{BASE_URL}{ENDPOINT}\", params=params)\n",
    "        \n",
    "        if response.status_code == 200:\n",
    "            data = response.json()\n",
    "            results = data.get(\"results\", [])\n",
    "            all_results.extend(results)  \n",
    "\n",
    "            \n",
    "            if not data.get(\"next\"):\n",
    "                break\n",
    "            page += 1\n",
    "        else:\n",
    "            print(f\"Error al obtener datos: {response.status_code}\")\n",
    "            print(response.text)\n",
    "            break\n",
    "\n",
    "    # Convertir a DataFrame y exportar\n",
    "    if all_results:\n",
    "        df = pd.DataFrame(all_results)\n",
    "        df.to_csv(\"juegos_rawg.csv\", index=False)\n",
    "        print(\"Datos exportados a juegos_rawg.csv\")\n",
    "    else:\n",
    "        print(\"No se obtuvieron datos.\")\n",
    "\n",
    "time.sleep(1)\n",
    "\n",
    "obtener_datos_rawg()"
   ]
  }
 ],
 "metadata": {
  "kernelspec": {
   "display_name": "analisis_de_datos-QJ9P2axb-py3.11",
   "language": "python",
   "name": "python3"
  },
  "language_info": {
   "codemirror_mode": {
    "name": "ipython",
    "version": 3
   },
   "file_extension": ".py",
   "mimetype": "text/x-python",
   "name": "python",
   "nbconvert_exporter": "python",
   "pygments_lexer": "ipython3",
   "version": "3.11.9"
  }
 },
 "nbformat": 4,
 "nbformat_minor": 2
}
